{
 "cells": [
  {
   "cell_type": "code",
   "execution_count": 2,
   "metadata": {},
   "outputs": [],
   "source": [
    "import sys\n",
    "sys.path.insert(0, '/home/alirachidi/classification_algorithm/trainers')\n",
    "from modules.main import parameters\n",
    "from modules.main.helpers import *\n",
    "from modules.main.global_helpers import *\n",
    "\n",
    "from modules.audio_loader.IcbhiAudioLoader import IcbhiAudioLoader\n",
    "from modules.audio_loader.helpers import default_get_filenames, bd_get_filenames, perch_get_filenames\n",
    "\n",
    "# from tf.keras.utils import to_categorical\n",
    "import leaf_audio.frontend as leaf_frontend\n",
    "import numpy as np\n",
    "from typing import Optional"
   ]
  },
  {
   "cell_type": "code",
   "execution_count": 3,
   "metadata": {},
   "outputs": [
    {
     "name": "stdout",
     "output_type": "stream",
     "text": [
      "Collecting Variables...\n",
      "All variables have been collected.\n",
      "/home/alirachidi/classification_algorithm/data/\n",
      "- Loading Icbhi.\n",
      "920 Icbhi audios have been loaded.\n",
      "- Preparing Icbhi.\n",
      "126 Icbhi groups of audio chunks (by filename or patients) have been prepared.\n",
      "len of icbhi\n",
      "3901\n",
      "len of train icbhi\n",
      "2376\n",
      "len of val icbhi\n",
      "1521\n"
     ]
    }
   ],
   "source": [
    "audio_loaders = []\n",
    "official_labels_path = \"/home/alirachidi/classification_algorithm/data/raw_audios/icbhi_preprocessed_v2_8000/official_labels.txt\"\n",
    "parameters.init()\n",
    "print(parameters.data_root)\n",
    "audio_loaders.append(IcbhiAudioLoader(parameters.icbhi_root, default_get_filenames))\n",
    "audios_dict = load_audios(audio_loaders)\n",
    "audios_c_dict = prepare_audios(audios_dict)\n",
    "icbhi_dict = audios_c_dict.pop('Icbhi')\n",
    "icbhi_train_samples, icbhi_val_samples = return_official_icbhi_split(icbhi_dict, official_labels_path)\n"
   ]
  },
  {
   "cell_type": "code",
   "execution_count": 35,
   "metadata": {},
   "outputs": [],
   "source": [
    "import pandas as pd\n",
    "df_path = \"/home/alirachidi/classification_algorithm/data/raw_audios/demographic_info.txt\"\n",
    "df_no_diagnosis = pd.read_csv(df_path, names = \n",
    "                 ['Patient_id', 'Age', 'Sex' , 'Adult BMI (kg/m2)', 'Child Weight (kg)' , 'Child Height (cm)'],\n",
    "                 delimiter = ' ')\n",
    "\n",
    "file1 = open(official_labels_path, 'r')\n",
    "lines = file1.readlines()\n",
    "val_files = []\n",
    "train_files = []\n",
    "val_patients = []\n",
    "train_patients = []\n",
    "val_devices = []\n",
    "train_devices = []\n",
    "\n",
    "for l in lines:\n",
    "    els = l.split()\n",
    "    patient_id = els[0].split('_')[0]\n",
    "    device = els[0].split('_')[-1]\n",
    "    if els[1] == \"train\":\n",
    "        train_files.append(els[0])\n",
    "        if not (patient_id in train_patients):\n",
    "            train_patients.append(patient_id)\n",
    "            train_devices.append(device)\n",
    "    else:\n",
    "        val_files.append(els[0])\n",
    "        if not (patient_id in val_patients):\n",
    "            val_patients.append(patient_id)\n",
    "            val_devices.append(device)"
   ]
  },
  {
   "cell_type": "code",
   "execution_count": 36,
   "metadata": {},
   "outputs": [
    {
     "name": "stdout",
     "output_type": "stream",
     "text": [
      "41 Meditron\n",
      "22 LittC2SE\n",
      "16 AKGC417L\n",
      "val\n",
      "24 Meditron\n",
      "9 Litt3200\n",
      "16 AKGC417L\n"
     ]
    }
   ],
   "source": [
    "for t in set(train_devices):\n",
    "    print(\"{} {}\".format(train_devices.count(t), t))\n",
    "print('val')\n",
    "for t in set(val_devices):\n",
    "    print(\"{} {}\".format(val_devices.count(t), t))\n"
   ]
  },
  {
   "cell_type": "code",
   "execution_count": 39,
   "metadata": {},
   "outputs": [
    {
     "name": "stdout",
     "output_type": "stream",
     "text": [
      "101\n",
      "   Patient_id  Age Sex  Adult BMI (kg/m2)  Child Weight (kg)  \\\n",
      "0         101  3.0   F                NaN               19.0   \n",
      "\n",
      "   Child Height (cm)  \n",
      "0               99.0  \n",
      "[]\n"
     ]
    }
   ],
   "source": [
    "ages = []\n",
    "for t in val_patients:\n",
    "    print(t)\n",
    "    el = df_no_diagnosis[df_no_diagnosis['Patient_id'] == int(t)]\n",
    "    print(el)\n",
    "    break\n",
    "    ages.append(el['Age'])\n",
    "print(ages)\n"
   ]
  },
  {
   "cell_type": "code",
   "execution_count": null,
   "metadata": {},
   "outputs": [],
   "source": []
  }
 ],
 "metadata": {
  "interpreter": {
   "hash": "b7099a16ef9b582c39d96c2ab26c9c94c320b23637b04fa8d6e8bb89c67d1bbb"
  },
  "kernelspec": {
   "display_name": "Python 3.7.9 ('LungSoundClass': conda)",
   "language": "python",
   "name": "python3"
  },
  "language_info": {
   "codemirror_mode": {
    "name": "ipython",
    "version": 3
   },
   "file_extension": ".py",
   "mimetype": "text/x-python",
   "name": "python",
   "nbconvert_exporter": "python",
   "pygments_lexer": "ipython3",
   "version": "3.7.9"
  },
  "orig_nbformat": 4
 },
 "nbformat": 4,
 "nbformat_minor": 2
}
