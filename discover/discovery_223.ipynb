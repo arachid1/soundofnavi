{
 "cells": [
  {
   "cell_type": "code",
   "execution_count": 124,
   "metadata": {},
   "outputs": [
    {
     "name": "stdout",
     "output_type": "stream",
     "text": [
      "The autoreload extension is already loaded. To reload it, use:\n",
      "  %reload_ext autoreload\n"
     ]
    }
   ],
   "source": [
    "%load_ext autoreload\n",
    "%autoreload 2\n",
    "\n",
    "import sys\n",
    "sys.path.append('/Users/alirachidi/Documents/Sonavi Labs/classification_algorithm/trainers')\n",
    "\n",
    "from modules.main import parameters as p\n",
    "from modules.dataset.Dataset import Dataset\n",
    "from modules.dataset.IcbhiDataset import IcbhiDataset\n",
    "from modules.patient.Patient import Patient\n",
    "from modules.recording.Recording import Recording\n",
    "from modules.slice.Slice import Slice\n",
    "from modules.audio_loader.helpers import default_get_filenames, bd_get_filenames, perch_get_filenames\n",
    "from modules.main.helpers import *\n",
    "from modules.main.global_helpers import *\n",
    "\n",
    "import pandas as pd"
   ]
  },
  {
   "cell_type": "code",
   "execution_count": 125,
   "metadata": {},
   "outputs": [],
   "source": [
    "icbhi_official_labels_path = \"/Users/alirachidi/Documents/Sonavi Labs/classification_algorithm/data/raw_audios/icbhi_preprocessed_v2_8000/official_labels.txt\"\n",
    "icbhi_metadata_path = \"/Users/alirachidi/Documents/Sonavi Labs/classification_algorithm/data/raw_audios/demographic_info.txt\"\n",
    "# /Users/alirachidi/Documents/Sonavi Labs/classification_algorithm/data/raw_audios/icbhi_preprocessed_v2_8000"
   ]
  },
  {
   "cell_type": "code",
   "execution_count": 126,
   "metadata": {},
   "outputs": [
    {
     "name": "stdout",
     "output_type": "stream",
     "text": [
      "-- Collecting Variables... --\n",
      "Tensorflow Version: 2.12.0\n",
      "Num GPUs Available:  1\n",
      "File dir is ../../../cache/pneumonia/notebook\n",
      "First job directory is ../../../cache/pneumonia/notebook/1\n",
      "PID: 64385\n",
      "Description: none\n",
      "-- All variables have been collected. --\n"
     ]
    }
   ],
   "source": [
    "args={\"mode\": \"main\", \"description\": \"none\", \"testing\": 0}\n",
    "p.init(args, \"notebook\")\n",
    "datasets = []\n",
    "datasets_selection = {\"Icbhi\": 1}\n",
    "# if datasets[\"Jordan\"]:\n",
    "#         datasets.append(JordanDataset(\n",
    "#             p.jordan_root))\n",
    "# if datasets[\"Bd\"]:\n",
    "#     datasets.append(BdDataset(\n",
    "#         p.bd_root, p.excel_path))\n",
    "# if datasets[\"Perch\"]:\n",
    "#     datasets.append(PerchDataset(\n",
    "#         p.perch_root))\n",
    "if datasets_selection[\"Icbhi\"]:\n",
    "    icbhi_dataset = IcbhiDataset(\n",
    "        \"Icbhi\", p.icbhi_root, p.icbhi_metadata_root, default_get_filenames)\n",
    "    datasets.append(icbhi_dataset)\n",
    "# if datasets[\"Ant\"]:\n",
    "#     # TODO: pass names?\n",
    "#     ant_loader = AntwerpDataset(\n",
    "#         p.ant_root)\n",
    "#     ant_loader.name = \"Antwerp\"\n",
    "#     datasets.append(ant_loader)"
   ]
  },
  {
   "cell_type": "code",
   "execution_count": 127,
   "metadata": {},
   "outputs": [
    {
     "name": "stdout",
     "output_type": "stream",
     "text": [
      "--- Samples are being split into training/val groups by patient by dataset ---\n"
     ]
    }
   ],
   "source": [
    "audios_dict = {}\n",
    "for d in datasets:\n",
    "    d.load_recordings()\n",
    "    d.prepare_slices()\n",
    "    #TODO: write a custom flatenning of dictionary function\n",
    "    slices_by_patient = d.return_slices_by_patient()\n",
    "    audios_dict[d.id] = slices_by_patient\n",
    "    # print(slices_by_patient.keys())\n",
    "    # print(slices_by_patient[122])\n",
    "    # recordings_by_patient = d.return_recordings_by_patient()\n",
    "    # print(recordings_by_patient.keys())\n",
    "    # print(recordings_by_patient[122])\n",
    "    # print(recordings_by_patient[122].keys())\n",
    "    # slices_by_recording_by_patient = d.return_slices_by_recording_by_patient()\n",
    "    # print(slices_by_recording_by_patient.keys())\n",
    "    # print(slices_by_recording_by_patient[122])\n",
    "    # print(slices_by_recording_by_patient[122].keys())\n",
    "    # print(slices_by_recording_by_patient[122]['122_2b1_Tc_mc_LittC2SE'])\n",
    "    # print(d.id)\n",
    "    # print(d.patients[122].id)\n",
    "    # print(d.patients[122].recordings['122_2b1_Tc_mc_LittC2SE'].id)\n",
    "    # print(d.patients[122].recordings['122_2b1_Tc_mc_LittC2SE'].label)\n",
    "    # print(d.patients[122].recordings['122_2b1_Tc_mc_LittC2SE'].slices)\n",
    "    # print(d.patients[122].recordings['122_2b1_Tc_mc_LittC2SE'].slices['122_2b1_Tc_mc_LittC2SE_0'].id)\n",
    "    # print(d.patients[122].recordings['122_2b1_Tc_mc_LittC2SE'].slices['122_2b1_Tc_mc_LittC2SE_0'].label)\n",
    "train_audios_dict, val_audios_dict = split_and_extend(\n",
    "        audios_dict, p.train_test_ratio, kfold=True)\n",
    "# print(len(train_audios_dict[0]['Icbhi']))\n",
    "# print(len(val_audios_dict[0]['Icbhi']))"
   ]
  },
  {
   "cell_type": "code",
   "execution_count": 128,
   "metadata": {},
   "outputs": [
    {
     "name": "stdout",
     "output_type": "stream",
     "text": [
      "yo\n",
      "(1, 80000)\n",
      "(80000,)\n",
      "(80000,)\n",
      "(80000,)\n",
      "(80000,)\n",
      "[[ 0.11793518  0.12794495  0.13682556 ... -0.07286072 -0.06399536\n",
      "  -0.03109741]]\n",
      "(1, 80000)\n",
      "(1, 80000)\n",
      "Unexpected exception formatting exception. Falling back to standard exception\n"
     ]
    },
    {
     "name": "stderr",
     "output_type": "stream",
     "text": [
      "Traceback (most recent call last):\n",
      "  File \"/Users/alirachidi/miniconda3/envs/ml/lib/python3.9/site-packages/IPython/core/interactiveshell.py\", line 3505, in run_code\n",
      "    exec(code_obj, self.user_global_ns, self.user_ns)\n",
      "  File \"/var/folders/yp/l_t6f1mn0yqclvv5qdshg2xr0000gn/T/ipykernel_64385/1016268891.py\", line 1, in <module>\n",
      "    icbhi_dataset.analyze()\n",
      "  File \"/Users/alirachidi/Documents/Sonavi Labs/classification_algorithm/trainers/modules/dataset/Dataset.py\", line 277, in analyze\n",
      "    exit()\n",
      "NameError: name 'exit' is not defined\n",
      "\n",
      "During handling of the above exception, another exception occurred:\n",
      "\n",
      "Traceback (most recent call last):\n",
      "  File \"/Users/alirachidi/miniconda3/envs/ml/lib/python3.9/site-packages/IPython/core/interactiveshell.py\", line 2102, in showtraceback\n",
      "    stb = self.InteractiveTB.structured_traceback(\n",
      "  File \"/Users/alirachidi/miniconda3/envs/ml/lib/python3.9/site-packages/IPython/core/ultratb.py\", line 1310, in structured_traceback\n",
      "    return FormattedTB.structured_traceback(\n",
      "  File \"/Users/alirachidi/miniconda3/envs/ml/lib/python3.9/site-packages/IPython/core/ultratb.py\", line 1199, in structured_traceback\n",
      "    return VerboseTB.structured_traceback(\n",
      "  File \"/Users/alirachidi/miniconda3/envs/ml/lib/python3.9/site-packages/IPython/core/ultratb.py\", line 1052, in structured_traceback\n",
      "    formatted_exception = self.format_exception_as_a_whole(etype, evalue, etb, number_of_lines_of_context,\n",
      "  File \"/Users/alirachidi/miniconda3/envs/ml/lib/python3.9/site-packages/IPython/core/ultratb.py\", line 978, in format_exception_as_a_whole\n",
      "    frames.append(self.format_record(record))\n",
      "  File \"/Users/alirachidi/miniconda3/envs/ml/lib/python3.9/site-packages/IPython/core/ultratb.py\", line 878, in format_record\n",
      "    frame_info.lines, Colors, self.has_colors, lvals\n",
      "  File \"/Users/alirachidi/miniconda3/envs/ml/lib/python3.9/site-packages/IPython/core/ultratb.py\", line 712, in lines\n",
      "    return self._sd.lines\n",
      "  File \"/Users/alirachidi/miniconda3/envs/ml/lib/python3.9/site-packages/stack_data/utils.py\", line 145, in cached_property_wrapper\n",
      "    value = obj.__dict__[self.func.__name__] = self.func(obj)\n",
      "  File \"/Users/alirachidi/miniconda3/envs/ml/lib/python3.9/site-packages/stack_data/core.py\", line 698, in lines\n",
      "    pieces = self.included_pieces\n",
      "  File \"/Users/alirachidi/miniconda3/envs/ml/lib/python3.9/site-packages/stack_data/utils.py\", line 145, in cached_property_wrapper\n",
      "    value = obj.__dict__[self.func.__name__] = self.func(obj)\n",
      "  File \"/Users/alirachidi/miniconda3/envs/ml/lib/python3.9/site-packages/stack_data/core.py\", line 649, in included_pieces\n",
      "    pos = scope_pieces.index(self.executing_piece)\n",
      "  File \"/Users/alirachidi/miniconda3/envs/ml/lib/python3.9/site-packages/stack_data/utils.py\", line 145, in cached_property_wrapper\n",
      "    value = obj.__dict__[self.func.__name__] = self.func(obj)\n",
      "  File \"/Users/alirachidi/miniconda3/envs/ml/lib/python3.9/site-packages/stack_data/core.py\", line 628, in executing_piece\n",
      "    return only(\n",
      "  File \"/Users/alirachidi/miniconda3/envs/ml/lib/python3.9/site-packages/executing/executing.py\", line 164, in only\n",
      "    raise NotOneValueFound('Expected one value, found 0')\n",
      "executing.executing.NotOneValueFound: Expected one value, found 0\n"
     ]
    },
    {
     "data": {
      "image/png": "[encoded data removed]",
      "text/plain": [
       "<Figure size 640x480 with 1 Axes>"
      ]
     },
     "metadata": {},
     "output_type": "display_data"
    }
   ],
   "source": [
    "icbhi_dataset.analyze()"
   ]
  },
  {
   "cell_type": "code",
   "execution_count": 129,
   "metadata": {},
   "outputs": [],
   "source": [
    "# data = [next(iter(icbhi_dataset.patients[122].recordings.values())), \n",
    "#         next(iter(icbhi_dataset.patients[101].recordings.values())), \n",
    "#         next(iter(icbhi_dataset.patients[102].recordings.values())), \n",
    "#         next(iter(icbhi_dataset.patients[103].recordings.values())), \n",
    "# ]\n",
    "# plot(data, subplot_data_func=lambda a:a.audio, subplot_title_func=lambda a: a.label, nrows=2, ncols=2)"
   ]
  },
  {
   "cell_type": "code",
   "execution_count": 130,
   "metadata": {},
   "outputs": [],
   "source": [
    "# df_no_diagnosis = pd.read_csv(df_path, names = \n",
    "#                  ['Patient_id', 'Age', 'Sex' , 'Adult BMI (kg/m2)', 'Child Weight (kg)' , 'Child Height (cm)'],\n",
    "#                  delimiter = ' ')\n",
    "\n",
    "# file1 = open(official_labels_path, 'r')\n",
    "# lines = file1.readlines()\n",
    "# val_files = []\n",
    "# train_files = []\n",
    "# val_patients = []\n",
    "# train_patients = []\n",
    "# val_devices = []\n",
    "# train_devices = []\n",
    "\n",
    "# for l in lines:\n",
    "#     els = l.split()\n",
    "#     patient_id = els[0].split('_')[0]\n",
    "#     device = els[0].split('_')[-1]\n",
    "#     if els[1] == \"train\":\n",
    "#         train_files.append(els[0])\n",
    "#         if not (patient_id in train_patients):\n",
    "#             train_patients.append(patient_id)\n",
    "#             train_devices.append(device)\n",
    "#     else:\n",
    "#         val_files.append(els[0])\n",
    "#         if not (patient_id in val_patients):\n",
    "#             val_patients.append(patient_id)\n",
    "#             val_devices.append(device)"
   ]
  },
  {
   "cell_type": "code",
   "execution_count": 131,
   "metadata": {},
   "outputs": [],
   "source": [
    "# for t in set(train_devices):\n",
    "#     print(\"{} {}\".format(train_devices.count(t), t))\n",
    "# print('val')\n",
    "# for t in set(val_devices):\n",
    "#     print(\"{} {}\".format(val_devices.count(t), t))\n"
   ]
  },
  {
   "cell_type": "code",
   "execution_count": 132,
   "metadata": {},
   "outputs": [],
   "source": [
    "# ages = []\n",
    "# for t in val_patients:\n",
    "#     print(t)\n",
    "#     el = df_no_diagnosis[df_no_diagnosis['Patient_id'] == int(t)]\n",
    "#     print(el)\n",
    "#     break\n",
    "#     ages.append(el['Age'])\n",
    "# print(ages)\n"
   ]
  },
  {
   "cell_type": "code",
   "execution_count": 133,
   "metadata": {},
   "outputs": [],
   "source": [
    "# plot patient profile with a custom func:\n",
    "## plots the recordings w metadata\n",
    "## plots the slices w metadata\n",
    "## plots the inflection points of waves\n",
    "## crying detection\n",
    "## spectrograms under diff processing\n",
    "### => includes audios and specs\n",
    "### => add average and std mode(choose 1 to all)\n",
    "\n",
    "# model\n",
    "## plots the gradcam\n",
    "## inputs to ouputs \n",
    "## analyze layers\n",
    "## garbage/random sounds/white noise/heartbeath/high frequency input analysis\n",
    "## performance profile\n",
    "## UQ\n",
    "## confidence analysis\n",
    "## plots of stats about the model\n",
    "### train VS Val"
   ]
  }
 ],
 "metadata": {
  "kernelspec": {
   "display_name": "ml",
   "language": "python",
   "name": "python3"
  },
  "language_info": {
   "codemirror_mode": {
    "name": "ipython",
    "version": 3
   },
   "file_extension": ".py",
   "mimetype": "text/x-python",
   "name": "python",
   "nbconvert_exporter": "python",
   "pygments_lexer": "ipython3",
   "version": "3.8.16 (default, Mar  1 2023, 21:18:45) \n[Clang 14.0.6 ]"
  },
  "orig_nbformat": 4,
  "vscode": {
   "interpreter": {
    "hash": "d4fa14a7fa75630fc482e935943401a84babeca80186ad0deb121d585c7d86e7"
   }
  }
 },
 "nbformat": 4,
 "nbformat_minor": 2
}
